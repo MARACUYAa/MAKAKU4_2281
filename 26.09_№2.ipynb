{
 "cells": [
  {
   "cell_type": "code",
   "execution_count": null,
   "metadata": {},
   "outputs": [],
   "source": [
    "Graph = {'A': ['B'],\n",
    "         'B': ['A','C','D'],\n",
    "         'C': ['B', 'D'],\n",
    "         'D': ['B','C']}\n",
    "\n",
    "Rebra = set()\n",
    "for ver,sosedi in Graph.items():\n",
    "    for neir in sosedi:\n",
    "        r = ver + neir\n",
    "        Rebra.add(r)"
   ]
  },
  {
   "cell_type": "code",
   "execution_count": 3,
   "metadata": {},
   "outputs": [
    {
     "name": "stdout",
     "output_type": "stream",
     "text": [
      "{'A': ['B'], 'B': ['A', 'C', 'D'], 'C': ['B', 'D'], 'D': ['B', 'C']}\n"
     ]
    }
   ],
   "source": [
    "a = [[0, 1, 0, 0],\n",
    "     [1, 0, 1, 1],\n",
    "     [0, 1, 0, 1],\n",
    "     [0, 1, 1, 0]]\n",
    "s = ['A', 'B', 'C','D']\n",
    "Gr = {}\n",
    "for i in range(len(a)):\n",
    "    for j in range(len(a[i])):\n",
    "        if a[i][j] == 1:\n",
    "            ver = s[i]\n",
    "            neir = s[j]\n",
    "            if ver not in Gr:\n",
    "                Gr[ver] = []\n",
    "            Gr[ver].append(neir)\n",
    "print(Gr)"
   ]
  },
  {
   "cell_type": "code",
   "execution_count": 5,
   "metadata": {},
   "outputs": [
    {
     "ename": "NameError",
     "evalue": "name 'Graph' is not defined",
     "output_type": "error",
     "traceback": [
      "\u001b[1;31m---------------------------------------------------------------------------\u001b[0m",
      "\u001b[1;31mNameError\u001b[0m                                 Traceback (most recent call last)",
      "\u001b[1;32mc:\\Users\\student\\Desktop\\МАКАКИЧ228\\26.09_№2.ipynb Ячейка 3\u001b[0m line \u001b[0;36m3\n\u001b[0;32m      <a href='vscode-notebook-cell:/c%3A/Users/student/Desktop/%D0%9C%D0%90%D0%9A%D0%90%D0%9A%D0%98%D0%A7228/26.09_%E2%84%962.ipynb#W2sZmlsZQ%3D%3D?line=0'>1</a>\u001b[0m Rebra \u001b[39m=\u001b[39m {\u001b[39m'\u001b[39m\u001b[39mCD\u001b[39m\u001b[39m'\u001b[39m, \u001b[39m'\u001b[39m\u001b[39mBD\u001b[39m\u001b[39m'\u001b[39m, \u001b[39m'\u001b[39m\u001b[39mAB\u001b[39m\u001b[39m'\u001b[39m, \u001b[39m'\u001b[39m\u001b[39mBC\u001b[39m\u001b[39m'\u001b[39m}\n\u001b[1;32m----> <a href='vscode-notebook-cell:/c%3A/Users/student/Desktop/%D0%9C%D0%90%D0%9A%D0%90%D0%9A%D0%98%D0%A7228/26.09_%E2%84%962.ipynb#W2sZmlsZQ%3D%3D?line=2'>3</a>\u001b[0m a \u001b[39m=\u001b[39m [[\u001b[39m0\u001b[39m \u001b[39mfor\u001b[39;00m i \u001b[39min\u001b[39;00m Graph] \u001b[39mfor\u001b[39;00m j \u001b[39min\u001b[39;00m Graph]\n\u001b[0;32m      <a href='vscode-notebook-cell:/c%3A/Users/student/Desktop/%D0%9C%D0%90%D0%9A%D0%90%D0%9A%D0%98%D0%A7228/26.09_%E2%84%962.ipynb#W2sZmlsZQ%3D%3D?line=3'>4</a>\u001b[0m s \u001b[39m=\u001b[39m \u001b[39msorted\u001b[39m(Graph)\n\u001b[0;32m      <a href='vscode-notebook-cell:/c%3A/Users/student/Desktop/%D0%9C%D0%90%D0%9A%D0%90%D0%9A%D0%98%D0%A7228/26.09_%E2%84%962.ipynb#W2sZmlsZQ%3D%3D?line=5'>6</a>\u001b[0m \u001b[39mfor\u001b[39;00m rebro \u001b[39min\u001b[39;00m Rebra:\n",
      "\u001b[1;31mNameError\u001b[0m: name 'Graph' is not defined"
     ]
    }
   ],
   "source": [
    "Rebra = {'CD', 'BD', 'AB', 'BC'}\n",
    "\n",
    "a = [[0 for i in Graph] for j in Graph]\n",
    "s = sorted(Graph)\n",
    "\n",
    "for rebro in Rebra:\n",
    "    a,b= rebro[0],rebro[1]\n",
    "    i = s.index(a)\n",
    "    j = s.index(b)\n",
    "    a[i][j] = 1\n",
    "\n",
    "for i in a:\n",
    "    print(*i)"
   ]
  },
  {
   "cell_type": "code",
   "execution_count": null,
   "metadata": {},
   "outputs": [],
   "source": [
    "a = [[0, 1, 0, 0],\n",
    "     [1, 0, 1, 1],\n",
    "     [0, 1, 0, 1],\n",
    "     [0, 1, 1, 0]]\n",
    "s = ['A', 'B', 'C','D']\n",
    "Rebra = set()\n",
    "\n",
    "for i in range(len(a)):\n",
    "    for j in range(len(a[i])):\n",
    "        if a[i][j] == 1:\n",
    "            ver = s[i]\n",
    "            neir = s[j]\n",
    "            if ver < neir:\n",
    "                r = ver + neir\n",
    "            else:\n",
    "                r = neir + ver\n",
    "            Rebra.add(r)\n",
    "print(Rebra)"
   ]
  },
  {
   "cell_type": "code",
   "execution_count": null,
   "metadata": {},
   "outputs": [],
   "source": [
    "def dic_to_matrix(Grapg, s):\n",
    "    a = [[0 for i in Graph] for j in Graph]\n",
    "    s = sorted(Graph)\n",
    "    for ver,sosedi in Graph.items():\n",
    "        i = s.index(ver)\n",
    "        for neir in sosedi:\n",
    "            j = s.index(neir)\n",
    "            a[i][j] = 1\n",
    "    return a\n"
   ]
  },
  {
   "cell_type": "code",
   "execution_count": 1,
   "metadata": {},
   "outputs": [],
   "source": [
    "Gr = {}\n",
    "rebra = set()\n",
    "s = input()\n",
    "while s != '':\n",
    "    rebra.add(s)\n",
    "    s = input()\n",
    "print(rebra)\n",
    "rebra -= {''}\n",
    "Graph = {}\n",
    "for rebro in rebra\n"
   ]
  },
  {
   "cell_type": "code",
   "execution_count": null,
   "metadata": {},
   "outputs": [],
   "source": [
    "def step(ver,path):\n",
    "    global a\n",
    "    if ver == 'M':\n",
    "        a.append(path)\n",
    "    if ver == 'G':\n",
    "        return\n",
    "    for neir in Gr[ver]:\n",
    "        step(neir, path + neir)\n",
    "\n",
    "step('A', 'A')\n",
    "for i in a:\n",
    "    print(i)\n",
    "print(len(a))"
   ]
  },
  {
   "cell_type": "code",
   "execution_count": null,
   "metadata": {},
   "outputs": [],
   "source": [
    "Graph = {'A': ['B', 'D', 'G'],\n",
    "         'B': ['G','V'],\n",
    "         'V': ['E', 'Z', 'K'],\n",
    "         'G': ['V', 'J', 'E'],\n",
    "         'D': ['G'],\n",
    "         'I': ['M'],\n",
    "         'E': ['J', 'M', 'K', 'I'],\n",
    "         'J': ['G', 'E', 'I'],\n",
    "         'Z': ['V', 'K', 'L'],\n",
    "         'K': ['E', 'V', 'Z', 'L', 'N', 'M'],\n",
    "         'L': ['Z', 'K', 'N'],\n",
    "         'M': ['I', 'K', 'E', 'N'],\n",
    "         'N': ['K', 'L', 'M']}\n",
    "def step(ver,path):\n",
    "    global a\n",
    "    if ver == 'N':\n",
    "        a.append(path)\n",
    "        return\n",
    "    for neir in Gr[ver]:\n",
    "        step(neir, path + neir)\n",
    "\n",
    "step('A', 'A')\n",
    "for i in a:\n",
    "    print(i)\n",
    "print(len(a))"
   ]
  }
 ],
 "metadata": {
  "kernelspec": {
   "display_name": "Python 3",
   "language": "python",
   "name": "python3"
  },
  "language_info": {
   "codemirror_mode": {
    "name": "ipython",
    "version": 3
   },
   "file_extension": ".py",
   "mimetype": "text/x-python",
   "name": "python",
   "nbconvert_exporter": "python",
   "pygments_lexer": "ipython3",
   "version": "3.11.3"
  },
  "orig_nbformat": 4
 },
 "nbformat": 4,
 "nbformat_minor": 2
}
